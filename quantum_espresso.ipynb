{
 "cells": [
  {
   "cell_type": "code",
   "execution_count": 1,
   "metadata": {},
   "outputs": [],
   "source": [
    "import os"
   ]
  },
  {
   "cell_type": "code",
   "execution_count": 2,
   "metadata": {},
   "outputs": [],
   "source": [
    "from shutil import copyfile"
   ]
  },
  {
   "cell_type": "code",
   "execution_count": 3,
   "metadata": {},
   "outputs": [],
   "source": [
    "from ase import io"
   ]
  },
  {
   "cell_type": "code",
   "execution_count": 4,
   "metadata": {},
   "outputs": [],
   "source": [
    "from ase.calculators.espresso import Espresso"
   ]
  },
  {
   "cell_type": "code",
   "execution_count": 5,
   "metadata": {},
   "outputs": [],
   "source": [
    "from pyiron.atomistics.job.atomistic import AtomisticGenericJob"
   ]
  },
  {
   "cell_type": "code",
   "execution_count": 6,
   "metadata": {},
   "outputs": [],
   "source": [
    "from pyiron_base import GenericParameters, Settings, Executable"
   ]
  },
  {
   "cell_type": "code",
   "execution_count": 7,
   "metadata": {},
   "outputs": [],
   "source": [
    "from pyiron import Project, pyiron_to_ase, ase_to_pyiron"
   ]
  },
  {
   "cell_type": "code",
   "execution_count": 8,
   "metadata": {},
   "outputs": [],
   "source": [
    "s = Settings()"
   ]
  },
  {
   "cell_type": "code",
   "execution_count": 9,
   "metadata": {},
   "outputs": [],
   "source": [
    "class QuantumEspressoInput(GenericParameters):\n",
    "    def __init__(self, input_file_name=None):\n",
    "        super(QuantumEspressoInput, self).__init__(\n",
    "            input_file_name=input_file_name, table_name=\"input\", comment_char=\"#\"\n",
    "        )\n",
    "\n",
    "    def load_default(self):\n",
    "        \"\"\"\n",
    "        Loading the default settings for the input file.\n",
    "        \"\"\"\n",
    "        input_str = \"\"\"\\\n",
    "kpoints [3,3,3]\n",
    "tstress True\n",
    "tprnfor True\n",
    "\"\"\"\n",
    "        self.load_string(input_str)"
   ]
  },
  {
   "cell_type": "code",
   "execution_count": 10,
   "metadata": {},
   "outputs": [],
   "source": [
    "class QuantumEspresso(AtomisticGenericJob):\n",
    "    def __init__(self, project, job_name):\n",
    "        super(QuantumEspresso, self).__init__(project, job_name)\n",
    "        self.__name__ = \"QuantumEspresso\"\n",
    "        self._executable = Executable(\n",
    "            codename=self.__name__, \n",
    "            path_binary_codes=s.resource_paths, \n",
    "            module=\"quantumespresso\"\n",
    "        )\n",
    "        self.input = QuantumEspressoInput()\n",
    "        self.pseudopotentials = {\n",
    "            'Na': 'Na.pbe-spn-rrkjus_psl.1.0.0.UPF',\n",
    "            'Cl': 'Cl.pbe-nl-rrkjus_psl.1.0.0.UPF'\n",
    "        }\n",
    "        \n",
    "    def write_input(self):\n",
    "        calc = Espresso(\n",
    "            label=\"pyiron\",\n",
    "            pseudopotentials=self.pseudopotentials,\n",
    "            tstress=self.input[\"tstress\"], \n",
    "            tprnfor=self.input[\"tprnfor\"], \n",
    "            kpts=self.input[\"kpoints\"]\n",
    "        )\n",
    "        calc.directory = self.working_directory\n",
    "        calc.write_input(atoms=pyiron_to_ase(self.structure))\n",
    "      \n",
    "    def collect_output(self):\n",
    "        output = io.read(os.path.join(self.working_directory, 'pyiron.pwo'))\n",
    "        with self.project_hdf5.open(\"output\") as hdf5_output:\n",
    "            for k in output.calc.results.keys():\n",
    "                hdf5_output[k] = output.calc.results[k]\n",
    "    \n",
    "    def to_hdf(self, hdf=None, group_name=None):\n",
    "        \"\"\"\n",
    "        Store the ExampleJob object in the HDF5 File\n",
    "\n",
    "        Args:\n",
    "            hdf (ProjectHDFio): HDF5 group object - optional\n",
    "            group_name (str): HDF5 subgroup name - optional\n",
    "        \"\"\"\n",
    "        super(QuantumEspresso, self).to_hdf(hdf=hdf, group_name=group_name)\n",
    "        self._structure_to_hdf()\n",
    "        with self.project_hdf5.open(\"input\") as hdf5_input:\n",
    "            self.input.to_hdf(hdf5_input)\n",
    "            hdf5_input[\"potential\"] = self.pseudopotentials\n",
    "\n",
    "    def from_hdf(self, hdf=None, group_name=None):\n",
    "        \"\"\"\n",
    "        Restore the ExampleJob object in the HDF5 File\n",
    "\n",
    "        Args:\n",
    "            hdf (ProjectHDFio): HDF5 group object - optional\n",
    "            group_name (str): HDF5 subgroup name - optional\n",
    "        \"\"\"\n",
    "        super(QuantumEspresso, self).from_hdf(hdf=hdf, group_name=group_name)\n",
    "        self._structure_from_hdf()\n",
    "        with self.project_hdf5.open(\"input\") as hdf5_input:\n",
    "            self.input.from_hdf(hdf5_input)\n",
    "            self.pseudopotentials = hdf5_input[\"potential\"]"
   ]
  },
  {
   "cell_type": "code",
   "execution_count": 11,
   "metadata": {},
   "outputs": [],
   "source": [
    "pr = Project(\"test\")"
   ]
  },
  {
   "cell_type": "code",
   "execution_count": 12,
   "metadata": {},
   "outputs": [],
   "source": [
    "pr.remove_jobs_silently(recursive=True)"
   ]
  },
  {
   "cell_type": "code",
   "execution_count": 13,
   "metadata": {},
   "outputs": [],
   "source": [
    "structure = pr.create_ase_bulk('NaCl', crystalstructure='rocksalt', a=6.0)"
   ]
  },
  {
   "cell_type": "code",
   "execution_count": 14,
   "metadata": {},
   "outputs": [
    {
     "data": {
      "text/html": [
       "<div>\n",
       "<style scoped>\n",
       "    .dataframe tbody tr th:only-of-type {\n",
       "        vertical-align: middle;\n",
       "    }\n",
       "\n",
       "    .dataframe tbody tr th {\n",
       "        vertical-align: top;\n",
       "    }\n",
       "\n",
       "    .dataframe thead th {\n",
       "        text-align: right;\n",
       "    }\n",
       "</style>\n",
       "<table border=\"1\" class=\"dataframe\">\n",
       "  <thead>\n",
       "    <tr style=\"text-align: right;\">\n",
       "      <th></th>\n",
       "      <th>Parameter</th>\n",
       "      <th>Value</th>\n",
       "      <th>Comment</th>\n",
       "    </tr>\n",
       "  </thead>\n",
       "  <tbody>\n",
       "    <tr>\n",
       "      <th>0</th>\n",
       "      <td>kpoints</td>\n",
       "      <td>[3,3,3]</td>\n",
       "      <td></td>\n",
       "    </tr>\n",
       "    <tr>\n",
       "      <th>1</th>\n",
       "      <td>tstress</td>\n",
       "      <td>True</td>\n",
       "      <td></td>\n",
       "    </tr>\n",
       "    <tr>\n",
       "      <th>2</th>\n",
       "      <td>tprnfor</td>\n",
       "      <td>True</td>\n",
       "      <td></td>\n",
       "    </tr>\n",
       "  </tbody>\n",
       "</table>\n",
       "</div>"
      ],
      "text/plain": [
       "  Parameter    Value Comment\n",
       "0   kpoints  [3,3,3]        \n",
       "1   tstress     True        \n",
       "2   tprnfor     True        "
      ]
     },
     "execution_count": 14,
     "metadata": {},
     "output_type": "execute_result"
    }
   ],
   "source": [
    "job = pr.create_job(QuantumEspresso, \"qe\")\n",
    "job.structure = structure \n",
    "job.input"
   ]
  },
  {
   "cell_type": "code",
   "execution_count": 15,
   "metadata": {},
   "outputs": [
    {
     "name": "stdout",
     "output_type": "stream",
     "text": [
      "The job qe was saved and received the ID: 1\n"
     ]
    }
   ],
   "source": [
    "job.run()"
   ]
  },
  {
   "cell_type": "code",
   "execution_count": 16,
   "metadata": {},
   "outputs": [
    {
     "data": {
      "text/plain": [
       "(-1742.9248893545657,\n",
       " array([[0., 0., 0.],\n",
       "        [0., 0., 0.]]),\n",
       " array([0.01931804, 0.01931804, 0.01931804, 0.        , 0.        ,\n",
       "        0.        ]))"
      ]
     },
     "execution_count": 16,
     "metadata": {},
     "output_type": "execute_result"
    }
   ],
   "source": [
    "job[\"output/energy\"], job[\"output/forces\"], job[\"output/stress\"]"
   ]
  },
  {
   "cell_type": "code",
   "execution_count": 17,
   "metadata": {},
   "outputs": [
    {
     "data": {
      "text/html": [
       "<div>\n",
       "<style scoped>\n",
       "    .dataframe tbody tr th:only-of-type {\n",
       "        vertical-align: middle;\n",
       "    }\n",
       "\n",
       "    .dataframe tbody tr th {\n",
       "        vertical-align: top;\n",
       "    }\n",
       "\n",
       "    .dataframe thead th {\n",
       "        text-align: right;\n",
       "    }\n",
       "</style>\n",
       "<table border=\"1\" class=\"dataframe\">\n",
       "  <thead>\n",
       "    <tr style=\"text-align: right;\">\n",
       "      <th></th>\n",
       "      <th>id</th>\n",
       "      <th>status</th>\n",
       "      <th>chemicalformula</th>\n",
       "      <th>job</th>\n",
       "      <th>subjob</th>\n",
       "      <th>projectpath</th>\n",
       "      <th>project</th>\n",
       "      <th>timestart</th>\n",
       "      <th>timestop</th>\n",
       "      <th>totalcputime</th>\n",
       "      <th>computer</th>\n",
       "      <th>hamilton</th>\n",
       "      <th>hamversion</th>\n",
       "      <th>parentid</th>\n",
       "      <th>masterid</th>\n",
       "    </tr>\n",
       "  </thead>\n",
       "  <tbody>\n",
       "    <tr>\n",
       "      <th>0</th>\n",
       "      <td>1</td>\n",
       "      <td>finished</td>\n",
       "      <td>ClNa</td>\n",
       "      <td>qe</td>\n",
       "      <td>/qe</td>\n",
       "      <td>/home/jovyan/</td>\n",
       "      <td>test/</td>\n",
       "      <td>2020-10-25 16:39:03.630310</td>\n",
       "      <td>2020-10-25 16:39:53.493553</td>\n",
       "      <td>49.0</td>\n",
       "      <td>pyiron@jupyter-jan-2djanssen-2dpyi-2duantum-2despresso-2dbaliuqjs#1</td>\n",
       "      <td>QuantumEspresso</td>\n",
       "      <td>0.1</td>\n",
       "      <td>None</td>\n",
       "      <td>None</td>\n",
       "    </tr>\n",
       "  </tbody>\n",
       "</table>\n",
       "</div>"
      ],
      "text/plain": [
       "   id    status chemicalformula job subjob    projectpath project  \\\n",
       "0   1  finished            ClNa  qe    /qe  /home/jovyan/   test/   \n",
       "\n",
       "                   timestart                   timestop  totalcputime  \\\n",
       "0 2020-10-25 16:39:03.630310 2020-10-25 16:39:53.493553          49.0   \n",
       "\n",
       "                                                              computer  \\\n",
       "0  pyiron@jupyter-jan-2djanssen-2dpyi-2duantum-2despresso-2dbaliuqjs#1   \n",
       "\n",
       "          hamilton hamversion parentid masterid  \n",
       "0  QuantumEspresso        0.1     None     None  "
      ]
     },
     "execution_count": 17,
     "metadata": {},
     "output_type": "execute_result"
    }
   ],
   "source": [
    "pr.job_table()"
   ]
  }
 ],
 "metadata": {
  "kernelspec": {
   "display_name": "Python 3",
   "language": "python",
   "name": "python3"
  },
  "language_info": {
   "codemirror_mode": {
    "name": "ipython",
    "version": 3
   },
   "file_extension": ".py",
   "mimetype": "text/x-python",
   "name": "python",
   "nbconvert_exporter": "python",
   "pygments_lexer": "ipython3",
   "version": "3.7.8"
  }
 },
 "nbformat": 4,
 "nbformat_minor": 4
}
