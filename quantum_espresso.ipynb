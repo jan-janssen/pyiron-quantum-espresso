{
 "cells": [
  {
   "cell_type": "code",
   "execution_count": null,
   "metadata": {},
   "outputs": [],
   "source": [
    "from ase.calculators.espresso import Espresso"
   ]
  },
  {
   "cell_type": "code",
   "execution_count": 1,
   "metadata": {},
   "outputs": [],
   "source": [
    "from pyiron.atomistics.job.atomistic import AtomisticGenericJob"
   ]
  },
  {
   "cell_type": "code",
   "execution_count": 2,
   "metadata": {},
   "outputs": [],
   "source": [
    "from pyiron_base import GenericParameters, Settings, Executable"
   ]
  },
  {
   "cell_type": "code",
   "execution_count": 1,
   "metadata": {},
   "outputs": [],
   "source": [
    "from pyiron import Project, pyiron_to_ase, ase_to_pyiron"
   ]
  },
  {
   "cell_type": "code",
   "execution_count": null,
   "metadata": {},
   "outputs": [],
   "source": [
    "class QuantumEspressoInput(GenericParameters):\n",
    "    def __init__(self, input_file_name=None):\n",
    "        super(QuantumEspressoInput, self).__init__(\n",
    "            input_file_name=input_file_name, table_name=\"input\", comment_char=\"#\"\n",
    "        )\n",
    "\n",
    "    def load_default(self):\n",
    "        \"\"\"\n",
    "        Loading the default settings for the input file.\n",
    "        \"\"\"\n",
    "        input_str = \"\"\"\\\n",
    "kpoints [3,3,3]\n",
    "tstress True\n",
    "tprnfor True\n",
    "\"\"\"\n",
    "        self.load_string(input_str)"
   ]
  },
  {
   "cell_type": "code",
   "execution_count": null,
   "metadata": {},
   "outputs": [],
   "source": [
    "class QuantumEspresso(AtomisticGenericJob):\n",
    "    def __init__(self, project, job_name):\n",
    "        super(QuantumEspresso, self).__init__(project, job_name)\n",
    "        self.__name__ = \"QuantumEspresso\"\n",
    "        self._executable = Executable(\n",
    "            codename=self.__name__, \n",
    "            path_binary_codes=s.resource_paths, \n",
    "            module=\"quantumespresso\"\n",
    "        )\n",
    "        self.input = QuantumEspressoInput()\n",
    "        self.pseudopotentials = {\n",
    "            'Na': 'Na.pbe-spn-rrkjus_psl.1.0.0.UPF',\n",
    "            'Cl': 'Cl.pbe-nl-rrkjus_psl.1.0.0.UPF'\n",
    "        }\n",
    "        \n",
    "    def write_input(self):\n",
    "        calc = Espresso(\n",
    "            label=self.working_directory,\n",
    "            pseudopotentials=self.pseudopotentials,\n",
    "            tstress=self.input[\"tstress\"], \n",
    "            tprnfor=self.input[\"tprnfor\"], \n",
    "            kpts=self.input[\"kpoints\"]\n",
    "        )\n",
    "        calc.write_input(atoms=pyiron_to_ase(self.structure))\n",
    "      \n",
    "    def collect_output(self):\n",
    "        pass\n",
    "    \n",
    "    def to_hdf(self, hdf=None, group_name=None):\n",
    "        \"\"\"\n",
    "        Store the ExampleJob object in the HDF5 File\n",
    "\n",
    "        Args:\n",
    "            hdf (ProjectHDFio): HDF5 group object - optional\n",
    "            group_name (str): HDF5 subgroup name - optional\n",
    "        \"\"\"\n",
    "        super(QuantumEspresso, self).to_hdf(hdf=hdf, group_name=group_name)\n",
    "        self._structure_to_hdf()\n",
    "        with self.project_hdf5.open(\"input\") as hdf5_input:\n",
    "            self.input.to_hdf(hdf5_input)\n",
    "            hdf5_input[\"potential\"] = self.pseudopotentials\n",
    "\n",
    "    def from_hdf(self, hdf=None, group_name=None):\n",
    "        \"\"\"\n",
    "        Restore the ExampleJob object in the HDF5 File\n",
    "\n",
    "        Args:\n",
    "            hdf (ProjectHDFio): HDF5 group object - optional\n",
    "            group_name (str): HDF5 subgroup name - optional\n",
    "        \"\"\"\n",
    "        super(QuantumEspresso, self).from_hdf(hdf=hdf, group_name=group_name)\n",
    "        self._structure_from_hdf()\n",
    "        with self.project_hdf5.open(\"input\") as hdf5_input:\n",
    "            self.input.from_hdf(hdf5_input)\n",
    "            self.pseudopotentials = hdf5_input[\"potential\"]"
   ]
  },
  {
   "cell_type": "code",
   "execution_count": 2,
   "metadata": {},
   "outputs": [],
   "source": [
    "pr = Project(\"test\")"
   ]
  },
  {
   "cell_type": "code",
   "execution_count": null,
   "metadata": {},
   "outputs": [],
   "source": [
    "pr.remove_jobs_silently(recursive=True)"
   ]
  },
  {
   "cell_type": "code",
   "execution_count": null,
   "metadata": {},
   "outputs": [],
   "source": [
    "structure = pr.create_ase_bulk('NaCl', crystalstructure='rocksalt', a=6.0)"
   ]
  },
  {
   "cell_type": "code",
   "execution_count": null,
   "metadata": {},
   "outputs": [],
   "source": [
    "job = pr.create_job(QuantumEspresso, \"qe\")\n",
    "job.structure = structure \n",
    "job.input"
   ]
  },
  {
   "cell_type": "code",
   "execution_count": null,
   "metadata": {},
   "outputs": [],
   "source": []
  }
 ],
 "metadata": {
  "kernelspec": {
   "display_name": "Python 3",
   "language": "python",
   "name": "python3"
  },
  "language_info": {
   "codemirror_mode": {
    "name": "ipython",
    "version": 3
   },
   "file_extension": ".py",
   "mimetype": "text/x-python",
   "name": "python",
   "nbconvert_exporter": "python",
   "pygments_lexer": "ipython3",
   "version": "3.7.8"
  }
 },
 "nbformat": 4,
 "nbformat_minor": 4
}
